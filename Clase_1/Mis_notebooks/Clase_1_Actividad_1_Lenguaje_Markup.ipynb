{
  "nbformat": 4,
  "nbformat_minor": 0,
  "metadata": {
    "colab": {
      "provenance": []
    },
    "kernelspec": {
      "name": "python3",
      "display_name": "Python 3"
    },
    "language_info": {
      "name": "python"
    }
  },
  "cells": [
    {
      "cell_type": "markdown",
      "source": [
        "*texto en cursiva*# Actividades"
      ],
      "metadata": {
        "id": "gCJoH7KuEUga"
      }
    },
    {
      "cell_type": "code",
      "source": [],
      "metadata": {
        "id": "Xc8jjkehHYUQ"
      },
      "execution_count": null,
      "outputs": []
    },
    {
      "cell_type": "markdown",
      "source": [
        "**texto en negrita**## Actividad 1"
      ],
      "metadata": {
        "id": "NHa-sP3zJ8Db"
      }
    },
    {
      "cell_type": "markdown",
      "source": [
        "  Creá tu propio bloque de texto. Utiliza:\n",
        "  - formatos de texto\n",
        "  - links\n",
        "  - al menos una imagen de tu carpeta Drive"
      ],
      "metadata": {
        "id": "ZlSXlWj4KAZZ"
      }
    },
    {
      "cell_type": "markdown",
      "source": [
        "### ***Mi Titulo***\n",
        "\n",
        "https://www.kaggle.com/\n",
        "\n",
        "<img src=\"https://drive.google.com/u?id={18ysDX8J_f6AvPelB_sYlOvodjjW-Oeq_}\">\n"
      ],
      "metadata": {
        "id": "f6tSIEHvD8qQ"
      }
    },
    {
      "cell_type": "markdown",
      "source": [
        "## Actividad 2"
      ],
      "metadata": {
        "id": "LTFeKV5uKDPK"
      }
    },
    {
      "cell_type": "markdown",
      "source": [
        "Creá un bloque de código con un programa que pida un número por teclado, y responda si es par o impar. Ejecutalo."
      ],
      "metadata": {
        "id": "NfVvRVxMKUu8"
      }
    },
    {
      "cell_type": "code",
      "source": [
        "num = int(input(\"Ingresa un número: \"))\n",
        "\n",
        "if num % 2 == 0:\n",
        "    print(f\"El número {num} es par.\")\n",
        "else:\n",
        "    print(f\"El número {num} es impar.\")"
      ],
      "metadata": {
        "colab": {
          "base_uri": "https://localhost:8080/"
        },
        "id": "WpWNOMxUICjH",
        "outputId": "d389c8cb-68df-4998-fa4b-8dd7c77d7b76"
      },
      "execution_count": 2,
      "outputs": [
        {
          "output_type": "stream",
          "name": "stdout",
          "text": [
            "Ingresa un número: 2\n",
            "El número 2 es par.\n"
          ]
        }
      ]
    }
  ]
}